{
 "cells": [
  {
   "cell_type": "code",
   "execution_count": 1,
   "id": "434d055d-1c66-43ee-9732-daac842514a6",
   "metadata": {},
   "outputs": [],
   "source": [
    "import pandas as pd"
   ]
  },
  {
   "cell_type": "code",
   "execution_count": 2,
   "id": "a83ae16d-7275-47cf-9a64-6832d7d825d8",
   "metadata": {},
   "outputs": [],
   "source": [
    "dict1={\n",
    "    'name':['sanjay','adithya','tanishk','nishan','sudeep','sharath'],\n",
    "    'age':[20,20,21,20,23,21],\n",
    "    'city':['padubidri','hejamadi','padubidri','malpe','road','opm'],\n",
    "    'marks':[69,75,63,63,65,95]\n",
    "}"
   ]
  },
  {
   "cell_type": "code",
   "execution_count": 3,
   "id": "e7eee4e9-61d3-44d6-938c-2d16bcbd57ef",
   "metadata": {},
   "outputs": [],
   "source": [
    "df = pd.DataFrame(dict1)"
   ]
  },
  {
   "cell_type": "code",
   "execution_count": 4,
   "id": "50f41e8c-35e3-40be-a485-19c57af766b1",
   "metadata": {},
   "outputs": [
    {
     "data": {
      "text/html": [
       "<div>\n",
       "<style scoped>\n",
       "    .dataframe tbody tr th:only-of-type {\n",
       "        vertical-align: middle;\n",
       "    }\n",
       "\n",
       "    .dataframe tbody tr th {\n",
       "        vertical-align: top;\n",
       "    }\n",
       "\n",
       "    .dataframe thead th {\n",
       "        text-align: right;\n",
       "    }\n",
       "</style>\n",
       "<table border=\"1\" class=\"dataframe\">\n",
       "  <thead>\n",
       "    <tr style=\"text-align: right;\">\n",
       "      <th></th>\n",
       "      <th>name</th>\n",
       "      <th>age</th>\n",
       "      <th>city</th>\n",
       "      <th>marks</th>\n",
       "    </tr>\n",
       "  </thead>\n",
       "  <tbody>\n",
       "    <tr>\n",
       "      <th>0</th>\n",
       "      <td>sanjay</td>\n",
       "      <td>20</td>\n",
       "      <td>padubidri</td>\n",
       "      <td>69</td>\n",
       "    </tr>\n",
       "    <tr>\n",
       "      <th>1</th>\n",
       "      <td>adithya</td>\n",
       "      <td>20</td>\n",
       "      <td>hejamadi</td>\n",
       "      <td>75</td>\n",
       "    </tr>\n",
       "    <tr>\n",
       "      <th>2</th>\n",
       "      <td>tanishk</td>\n",
       "      <td>21</td>\n",
       "      <td>padubidri</td>\n",
       "      <td>63</td>\n",
       "    </tr>\n",
       "    <tr>\n",
       "      <th>3</th>\n",
       "      <td>nishan</td>\n",
       "      <td>20</td>\n",
       "      <td>malpe</td>\n",
       "      <td>63</td>\n",
       "    </tr>\n",
       "    <tr>\n",
       "      <th>4</th>\n",
       "      <td>sudeep</td>\n",
       "      <td>23</td>\n",
       "      <td>road</td>\n",
       "      <td>65</td>\n",
       "    </tr>\n",
       "    <tr>\n",
       "      <th>5</th>\n",
       "      <td>sharath</td>\n",
       "      <td>21</td>\n",
       "      <td>opm</td>\n",
       "      <td>95</td>\n",
       "    </tr>\n",
       "  </tbody>\n",
       "</table>\n",
       "</div>"
      ],
      "text/plain": [
       "      name  age       city  marks\n",
       "0   sanjay   20  padubidri     69\n",
       "1  adithya   20   hejamadi     75\n",
       "2  tanishk   21  padubidri     63\n",
       "3   nishan   20      malpe     63\n",
       "4   sudeep   23       road     65\n",
       "5  sharath   21        opm     95"
      ]
     },
     "execution_count": 4,
     "metadata": {},
     "output_type": "execute_result"
    }
   ],
   "source": [
    "df"
   ]
  },
  {
   "cell_type": "code",
   "execution_count": 5,
   "id": "848c8768-67aa-4eb2-a784-9a097c6b0e57",
   "metadata": {},
   "outputs": [
    {
     "data": {
      "text/html": [
       "<div>\n",
       "<style scoped>\n",
       "    .dataframe tbody tr th:only-of-type {\n",
       "        vertical-align: middle;\n",
       "    }\n",
       "\n",
       "    .dataframe tbody tr th {\n",
       "        vertical-align: top;\n",
       "    }\n",
       "\n",
       "    .dataframe thead th {\n",
       "        text-align: right;\n",
       "    }\n",
       "</style>\n",
       "<table border=\"1\" class=\"dataframe\">\n",
       "  <thead>\n",
       "    <tr style=\"text-align: right;\">\n",
       "      <th></th>\n",
       "      <th>name</th>\n",
       "      <th>age</th>\n",
       "      <th>city</th>\n",
       "      <th>marks</th>\n",
       "    </tr>\n",
       "  </thead>\n",
       "  <tbody>\n",
       "    <tr>\n",
       "      <th>0</th>\n",
       "      <td>sanjay</td>\n",
       "      <td>20</td>\n",
       "      <td>padubidri</td>\n",
       "      <td>69</td>\n",
       "    </tr>\n",
       "    <tr>\n",
       "      <th>1</th>\n",
       "      <td>adithya</td>\n",
       "      <td>20</td>\n",
       "      <td>hejamadi</td>\n",
       "      <td>75</td>\n",
       "    </tr>\n",
       "    <tr>\n",
       "      <th>2</th>\n",
       "      <td>tanishk</td>\n",
       "      <td>21</td>\n",
       "      <td>padubidri</td>\n",
       "      <td>63</td>\n",
       "    </tr>\n",
       "  </tbody>\n",
       "</table>\n",
       "</div>"
      ],
      "text/plain": [
       "      name  age       city  marks\n",
       "0   sanjay   20  padubidri     69\n",
       "1  adithya   20   hejamadi     75\n",
       "2  tanishk   21  padubidri     63"
      ]
     },
     "execution_count": 5,
     "metadata": {},
     "output_type": "execute_result"
    }
   ],
   "source": [
    "df.head(3)"
   ]
  },
  {
   "cell_type": "code",
   "execution_count": 6,
   "id": "2968af79-d7a4-4a58-ad8b-147122f2f693",
   "metadata": {},
   "outputs": [
    {
     "data": {
      "text/html": [
       "<div>\n",
       "<style scoped>\n",
       "    .dataframe tbody tr th:only-of-type {\n",
       "        vertical-align: middle;\n",
       "    }\n",
       "\n",
       "    .dataframe tbody tr th {\n",
       "        vertical-align: top;\n",
       "    }\n",
       "\n",
       "    .dataframe thead th {\n",
       "        text-align: right;\n",
       "    }\n",
       "</style>\n",
       "<table border=\"1\" class=\"dataframe\">\n",
       "  <thead>\n",
       "    <tr style=\"text-align: right;\">\n",
       "      <th></th>\n",
       "      <th>name</th>\n",
       "      <th>age</th>\n",
       "      <th>city</th>\n",
       "      <th>marks</th>\n",
       "    </tr>\n",
       "  </thead>\n",
       "  <tbody>\n",
       "    <tr>\n",
       "      <th>4</th>\n",
       "      <td>sudeep</td>\n",
       "      <td>23</td>\n",
       "      <td>road</td>\n",
       "      <td>65</td>\n",
       "    </tr>\n",
       "    <tr>\n",
       "      <th>5</th>\n",
       "      <td>sharath</td>\n",
       "      <td>21</td>\n",
       "      <td>opm</td>\n",
       "      <td>95</td>\n",
       "    </tr>\n",
       "  </tbody>\n",
       "</table>\n",
       "</div>"
      ],
      "text/plain": [
       "      name  age  city  marks\n",
       "4   sudeep   23  road     65\n",
       "5  sharath   21   opm     95"
      ]
     },
     "execution_count": 6,
     "metadata": {},
     "output_type": "execute_result"
    }
   ],
   "source": [
    "df.tail(2)"
   ]
  },
  {
   "cell_type": "code",
   "execution_count": 7,
   "id": "0c0cee25-db57-4d5e-80dd-0af938a6b95c",
   "metadata": {},
   "outputs": [],
   "source": [
    "# we can also convert the data after manipluation into excel file that csv file and can be exported by using command to_csv.('file name')\n",
    "df.to_csv('dwags.csv')"
   ]
  },
  {
   "cell_type": "code",
   "execution_count": 8,
   "id": "6e12dc9d-e4f1-4106-8a48-ceb325744abf",
   "metadata": {},
   "outputs": [],
   "source": [
    "# if we export like this the index numbers will also be exported if we dont want the indexnumber to be exported we can use index= False.\n",
    "df.to_csv('dwags_without-indexnumber.csv',index = False)"
   ]
  },
  {
   "cell_type": "code",
   "execution_count": 9,
   "id": "fc440658-e8b0-4e05-9179-5b441c23c622",
   "metadata": {},
   "outputs": [
    {
     "data": {
      "text/html": [
       "<div>\n",
       "<style scoped>\n",
       "    .dataframe tbody tr th:only-of-type {\n",
       "        vertical-align: middle;\n",
       "    }\n",
       "\n",
       "    .dataframe tbody tr th {\n",
       "        vertical-align: top;\n",
       "    }\n",
       "\n",
       "    .dataframe thead th {\n",
       "        text-align: right;\n",
       "    }\n",
       "</style>\n",
       "<table border=\"1\" class=\"dataframe\">\n",
       "  <thead>\n",
       "    <tr style=\"text-align: right;\">\n",
       "      <th></th>\n",
       "      <th>age</th>\n",
       "      <th>marks</th>\n",
       "    </tr>\n",
       "  </thead>\n",
       "  <tbody>\n",
       "    <tr>\n",
       "      <th>count</th>\n",
       "      <td>6.000000</td>\n",
       "      <td>6.000000</td>\n",
       "    </tr>\n",
       "    <tr>\n",
       "      <th>mean</th>\n",
       "      <td>20.833333</td>\n",
       "      <td>71.666667</td>\n",
       "    </tr>\n",
       "    <tr>\n",
       "      <th>std</th>\n",
       "      <td>1.169045</td>\n",
       "      <td>12.307179</td>\n",
       "    </tr>\n",
       "    <tr>\n",
       "      <th>min</th>\n",
       "      <td>20.000000</td>\n",
       "      <td>63.000000</td>\n",
       "    </tr>\n",
       "    <tr>\n",
       "      <th>25%</th>\n",
       "      <td>20.000000</td>\n",
       "      <td>63.500000</td>\n",
       "    </tr>\n",
       "    <tr>\n",
       "      <th>50%</th>\n",
       "      <td>20.500000</td>\n",
       "      <td>67.000000</td>\n",
       "    </tr>\n",
       "    <tr>\n",
       "      <th>75%</th>\n",
       "      <td>21.000000</td>\n",
       "      <td>73.500000</td>\n",
       "    </tr>\n",
       "    <tr>\n",
       "      <th>max</th>\n",
       "      <td>23.000000</td>\n",
       "      <td>95.000000</td>\n",
       "    </tr>\n",
       "  </tbody>\n",
       "</table>\n",
       "</div>"
      ],
      "text/plain": [
       "             age      marks\n",
       "count   6.000000   6.000000\n",
       "mean   20.833333  71.666667\n",
       "std     1.169045  12.307179\n",
       "min    20.000000  63.000000\n",
       "25%    20.000000  63.500000\n",
       "50%    20.500000  67.000000\n",
       "75%    21.000000  73.500000\n",
       "max    23.000000  95.000000"
      ]
     },
     "execution_count": 9,
     "metadata": {},
     "output_type": "execute_result"
    }
   ],
   "source": [
    "# there is method in pandas describe().this method analyse all the numeric values in the dataframe and return some sepcific values and do stastical analyse.\n",
    "df.describe()"
   ]
  },
  {
   "cell_type": "code",
   "execution_count": 10,
   "id": "dbf793f5-da38-4470-bfcc-63c3e62a7566",
   "metadata": {},
   "outputs": [],
   "source": [
    "# if you want to open a external csv file or excel file in jupyter to do some modification then we use pd.read_csv('filename') method to open.\n",
    "# opm = read_csv('opm.csv')\n",
    "# opm\n",
    "# if we execute these two lines then we can access the external files."
   ]
  },
  {
   "cell_type": "code",
   "execution_count": null,
   "id": "a764ce85-557d-4208-b867-119a7247eb44",
   "metadata": {},
   "outputs": [],
   "source": []
  }
 ],
 "metadata": {
  "kernelspec": {
   "display_name": "Python 3 (ipykernel)",
   "language": "python",
   "name": "python3"
  },
  "language_info": {
   "codemirror_mode": {
    "name": "ipython",
    "version": 3
   },
   "file_extension": ".py",
   "mimetype": "text/x-python",
   "name": "python",
   "nbconvert_exporter": "python",
   "pygments_lexer": "ipython3",
   "version": "3.13.5"
  }
 },
 "nbformat": 4,
 "nbformat_minor": 5
}
